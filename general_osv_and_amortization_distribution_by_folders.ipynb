{
 "cells": [
  {
   "cell_type": "markdown",
   "id": "575d53b9",
   "metadata": {},
   "source": [
    "## Распределение по папкам общих ОСВ"
   ]
  },
  {
   "cell_type": "code",
   "execution_count": null,
   "id": "3a834ca6",
   "metadata": {
    "scrolled": true
   },
   "outputs": [],
   "source": [
    "'''\n",
    "Скрипт для консолидации выгруженных из 1С общих ОСВ, отчётов по проводкам и ведомостей амортизации, и их распределения\n",
    "по папкам в соответствии с периодом, по которому они сформированы \n",
    "'''\n",
    "# импортируем библиотеки и модули\n",
    "import numpy as np\n",
    "import pandas as pd\n",
    "import os\n",
    "import math\n",
    "import shutil\n",
    "import copy\n",
    "from tqdm import tqdm\n",
    "from openpyxl import Workbook, load_workbook\n",
    "from openpyxl.utils.dataframe import dataframe_to_rows\n",
    "from openpyxl.styles.numbers import BUILTIN_FORMATS\n",
    "from openpyxl.styles import Alignment, Font, PatternFill\n",
    "from openpyxl.worksheet.table import Table, TableStyleInfo\n",
    "\n",
    "#prevent SettingWithCopyWarning message from appearing\n",
    "pd.options.mode.chained_assignment = None"
   ]
  },
  {
   "cell_type": "code",
   "execution_count": null,
   "id": "765c6095",
   "metadata": {},
   "outputs": [],
   "source": [
    "# запишем путь к папке с исходными данными в переменную\n",
    "source = os.path.join('H:',\n",
    "                      '7_ФЭО',\n",
    "                      '3_Финансы',\n",
    "                      'Отчетность и расшифровки',\n",
    "                      'Расшифровка отчетности',\n",
    "                      'РСБУ',\n",
    "                      'Исходные данные')\n",
    "# запишем путь к папке с исходными данными в переменную\n",
    "source_1c = os.path.join('H:',\n",
    "                         '7_ФЭО',\n",
    "                         '3_Финансы',\n",
    "                         'Отчетность и расшифровки',\n",
    "                         'Расшифровка отчетности',\n",
    "                         'РСБУ',\n",
    "                         'Исходные данные',\n",
    "                         'Исходные данные из 1С',\n",
    "                         'Общие ОСВ')"
   ]
  },
  {
   "cell_type": "code",
   "execution_count": null,
   "id": "8a7c741a",
   "metadata": {},
   "outputs": [],
   "source": [
    "# создадим список с названиями всех общих ОСВ в папке с исходными данными с расширением .xlsx\n",
    "raw_data_name_list = [raw_data for raw_data in os.listdir(source_1c) if raw_data.startswith('Общая ОСВ') and\n",
    "                      raw_data.endswith('.xlsx')]\n",
    "\n",
    "print(f'Исходные данные (Общие ОСВ): {raw_data_name_list}')"
   ]
  },
  {
   "cell_type": "code",
   "execution_count": null,
   "id": "3cfabad7",
   "metadata": {},
   "outputs": [],
   "source": [
    "print('Выполнение скрипта \"bdr_consolidation\" (консолидация БДР)')\n",
    "print(f'Чтение БДР из \"{source}\"')\n",
    "\n",
    "# создадим справочник из всех датафреймов в списке 'raw_data_name_list'\n",
    "all_raw_data = {raw_data:pd.read_excel(os.path.join(source_1c, f'{raw_data}')) for raw_data in tqdm(raw_data_name_list)}"
   ]
  },
  {
   "cell_type": "code",
   "execution_count": null,
   "id": "69994078",
   "metadata": {
    "scrolled": true
   },
   "outputs": [],
   "source": [
    "# создадим список из номеров строк, в которых встречается слово 'Период' в excel файле\n",
    "period_location_row = [raw_data.apply(lambda row: row.astype(str)\n",
    "                                                     .str\n",
    "                                                     .contains('Период')\n",
    "                                                     .any(), axis=1)\n",
    "                               .loc[lambda x: x == True].index[0] for raw_data in all_raw_data.values()]"
   ]
  },
  {
   "cell_type": "code",
   "execution_count": null,
   "id": "0131177a",
   "metadata": {},
   "outputs": [],
   "source": [
    "# создадим список из названий столбцов, в которых встречается слово 'Период' в excel файле\n",
    "period_location_column = [raw_data.apply(lambda row: row.astype(str)\n",
    "                                                        .str\n",
    "                                                        .contains('Период')\n",
    "                                                        .any(), axis=0)\n",
    "                                  .loc[lambda x: x == True].index[0] for raw_data in all_raw_data.values()]"
   ]
  },
  {
   "cell_type": "code",
   "execution_count": null,
   "id": "78508195",
   "metadata": {},
   "outputs": [],
   "source": [
    "# объединим списки 'period_location_row' и 'period_location_column'\n",
    "# в список кортежей с номером строки и названием столбца\n",
    "period_location = list(zip(period_location_row, period_location_column))"
   ]
  },
  {
   "cell_type": "code",
   "execution_count": null,
   "id": "21d201ef",
   "metadata": {},
   "outputs": [],
   "source": [
    "# создадим пустые списки\n",
    "period_list_start = []\n",
    "period_list_end = []\n",
    "\n",
    "# создадим счётчик\n",
    "x = 0\n",
    "# при помощи цикла заполним список 'period_list_start' значениями начала периода у каждого файла\n",
    "for raw_data in all_raw_data.values():\n",
    "    period_list_start.append(raw_data.loc[period_location[x][0], period_location[x][1]][8:18])\n",
    "    x += 1\n",
    "\n",
    "# создадим счётчик\n",
    "x = 0\n",
    "# при помощи цикла заполним список 'period_list_end' значениями конца периода у каждого файла\n",
    "for raw_data in all_raw_data.values():\n",
    "    period_list_end.append(raw_data.loc[period_location[x][0], period_location[x][1]][-10:])\n",
    "    x += 1"
   ]
  },
  {
   "cell_type": "code",
   "execution_count": null,
   "id": "669cad4e",
   "metadata": {},
   "outputs": [],
   "source": [
    "# создадим список из номеров строк, в которых встречается слово 'Счет' в excel файле в столбце 'Unnamed: 0',\n",
    "# чтобы в дальнейшем оставить только строки, содержащие таблицу с данными\n",
    "rows_to_delete_index = []\n",
    "for raw_data in all_raw_data.values():\n",
    "    rows_to_delete_index.append(list(raw_data['Unnamed: 0']).index('Счет'))"
   ]
  },
  {
   "cell_type": "code",
   "execution_count": null,
   "id": "5d48528e",
   "metadata": {},
   "outputs": [],
   "source": [
    "# объединим списки 'raw_data_name_list' и 'rows_to_delete_index'\n",
    "# в список кортежей с названием файла и номером строки для удаления\n",
    "rows_to_delete = list(zip(raw_data_name_list, rows_to_delete_index))"
   ]
  },
  {
   "cell_type": "code",
   "execution_count": null,
   "id": "3a85d3ca",
   "metadata": {},
   "outputs": [],
   "source": [
    "# при помощи цикла обновим словарь 'all_raw_data', удалив лишние строки из каждого датафрейма\n",
    "for raw_data in all_raw_data.items():\n",
    "    for row in rows_to_delete:\n",
    "        if raw_data[0] == row[0]:\n",
    "            all_raw_data.update({raw_data[0]: raw_data[1][row[1]+1:]})"
   ]
  },
  {
   "cell_type": "code",
   "execution_count": null,
   "id": "aa2ed826",
   "metadata": {},
   "outputs": [],
   "source": [
    "# при помощи цикла удалим пустые столбцы в каждом датафрейме из словаря 'all_raw_data'\n",
    "all_raw_data = {raw_data[0]: raw_data[1].dropna(how='all', axis=1) for raw_data in all_raw_data.items()}"
   ]
  },
  {
   "cell_type": "code",
   "execution_count": null,
   "id": "45b2baac",
   "metadata": {},
   "outputs": [],
   "source": [
    "# при помощи цикла заменим текущие названия столбцов на значения из 1-ой строки\n",
    "# и удалим 2 лишние строки в каждом датафрейме из словаря 'all_raw_data'\n",
    "all_raw_data = {raw_data[0]: raw_data[1].rename(columns=raw_data[1].iloc[0])[2:]\n",
    "                                        .reset_index(drop=True) for raw_data in all_raw_data.items()}"
   ]
  },
  {
   "cell_type": "code",
   "execution_count": null,
   "id": "f7db5338",
   "metadata": {},
   "outputs": [],
   "source": [
    "# удалим строку с итогами\n",
    "all_raw_data = {raw_data[0]: raw_data[1].iloc[:-1] for raw_data in all_raw_data.items()}"
   ]
  },
  {
   "cell_type": "code",
   "execution_count": null,
   "id": "cab74cb9",
   "metadata": {},
   "outputs": [],
   "source": [
    "# переименуем столбцы\n",
    "for row_key, row_value in all_raw_data.items():\n",
    "    row_value.columns = ['Субконто 1',\n",
    "                         'Счёт',\n",
    "                         'Субконто 2',\n",
    "                         'Сумма нач. ост. Дт',\n",
    "                         'Сумма нач. ост. Кт',\n",
    "                         'Сумма оборотов Дт',\n",
    "                         'Сумма оборотов Кт',\n",
    "                         'Сумма кон. ост. Дт',\n",
    "                         'Сумма кон. ост. Кт']"
   ]
  },
  {
   "cell_type": "code",
   "execution_count": null,
   "id": "6b371e3d",
   "metadata": {},
   "outputs": [],
   "source": [
    "# при помощи цикла поменяем местами столбцы\n",
    "all_raw_data = {raw_data[0]: raw_data[1].iloc[:, [0, 2, 1, 3, 4, 5, 6, 7, 8]] for raw_data in all_raw_data.items()}"
   ]
  },
  {
   "cell_type": "code",
   "execution_count": null,
   "id": "e982d6f9",
   "metadata": {},
   "outputs": [],
   "source": [
    "# создадим новые столбцы 'Является итогом по счёту' и 'Является итогом по Субконто 1'\n",
    "for row_key, row_value in all_raw_data.items():\n",
    "    unique_vals = {val: i for i, val in reversed(list(enumerate(x for x in row_value['Счёт'])))}\n",
    "    del unique_vals[np.nan]\n",
    "    unique_vals_list_1 = [value for value in unique_vals.values()]\n",
    "    row_value['Является итогом по счёту'] = row_value.index.values\n",
    "    row_value['Является итогом по счёту'] = np.where(row_value['Является итогом по счёту'].isin(unique_vals_list_1),\n",
    "                                                     'Да',\n",
    "                                                     'Нет')\n",
    "    \n",
    "    na_values = list(row_value['Субконто 1'][lambda x: pd.isnull].index)\n",
    "    unique_vals_list_2 = na_values + unique_vals_list_1\n",
    "    row_value['Является итогом по Субконто 1'] = row_value.index.values\n",
    "    row_value['Является итогом по Субконто 1'] = np.where(~(row_value['Является итогом по Субконто 1'].isin(unique_vals_list_2)),\n",
    "                                                          'Да',\n",
    "                                                          'Нет')"
   ]
  },
  {
   "cell_type": "code",
   "execution_count": null,
   "id": "fe88200a",
   "metadata": {},
   "outputs": [],
   "source": [
    "# заполним пропущенные значения в столбцах \"Счёт\" и \"Субконто 1\" значениями предыдущей заполненной ячейки по строкам\n",
    "for row_key, row_value in all_raw_data.items():\n",
    "    row_value['Счёт'] = row_value['Счёт'].fillna(method='ffill',\n",
    "                                                 axis=0)\n",
    "    row_value['Субконто 1'] = row_value['Субконто 1'].fillna(method='ffill',\n",
    "                                                             axis=0)"
   ]
  },
  {
   "cell_type": "code",
   "execution_count": null,
   "id": "f6490743",
   "metadata": {},
   "outputs": [],
   "source": [
    "# сбросим индексы в каждом датафрейме\n",
    "for row_key, row_value in all_raw_data.items():\n",
    "    row_value.reset_index(inplace=True, drop=True)"
   ]
  },
  {
   "cell_type": "code",
   "execution_count": null,
   "id": "7861f6ae",
   "metadata": {},
   "outputs": [],
   "source": [
    "# создадим список 'source_file_path' и заполним его значениями путей к исходным файлам\n",
    "source_file_path = []\n",
    "for name in raw_data_name_list:\n",
    "    source_file_path.append(os.path.join(source, name))"
   ]
  },
  {
   "cell_type": "code",
   "execution_count": null,
   "id": "f7352946",
   "metadata": {},
   "outputs": [],
   "source": [
    "# объединим списки 'raw_data_name_list' и 'source_file_path'\n",
    "# в список кортежей с названием файла и путём к нему\n",
    "source_file = list(zip(raw_data_name_list, source_file_path))"
   ]
  },
  {
   "cell_type": "code",
   "execution_count": null,
   "id": "dd21d781",
   "metadata": {
    "scrolled": true
   },
   "outputs": [],
   "source": [
    "'''\n",
    "Цикл, который перезаписывает каждый файл из 'all_raw_data', чтобы сохранить внесённые ранее изменения в его структуру,\n",
    "а также сохраняет файл в формате xlsx в первоначальную папку\n",
    "'''\n",
    "print(f'Перезапись ОСВ из \"{source}\"')\n",
    "for raw_data in tqdm(all_raw_data.items()):\n",
    "    for file in source_file:\n",
    "        if raw_data[0] == file[0]:\n",
    "            raw_data[1].to_excel(file[1], header=True, index=False)"
   ]
  },
  {
   "cell_type": "code",
   "execution_count": null,
   "id": "879ee9ff",
   "metadata": {},
   "outputs": [],
   "source": [
    "# функция для извлечения номера квартала по дате\n",
    "def quarter_name(date):\n",
    "    quarters = {'31.03': '1 квартал',\n",
    "                '30.06': '2 квартал', \n",
    "                '30.09': '3 квартал',\n",
    "                '31.12': '4 квартал'}\n",
    "    quarter_name = quarters[date]\n",
    "    return quarter_name"
   ]
  },
  {
   "cell_type": "code",
   "execution_count": null,
   "id": "7de1a751",
   "metadata": {},
   "outputs": [],
   "source": [
    "# создадим список с расположением новых папок\n",
    "folder_location = os.path.join(source,\n",
    "                               period_list_end[0][-4:],\n",
    "                               f'{period_list_end[0][-4:]}_{quarter_name(period_list_end[0][:-5])}')\n",
    "folder_location_1c = os.path.join(folder_location, 'Общие ОСВ')\n",
    "# создаются только те папки, которые до этого не существовали\n",
    "if not os.path.exists(folder_location):\n",
    "    os.makedirs(folder_location)\n",
    "if not os.path.exists(folder_location_1c):\n",
    "    os.makedirs(folder_location_1c)   "
   ]
  },
  {
   "cell_type": "code",
   "execution_count": null,
   "id": "736a138e",
   "metadata": {},
   "outputs": [],
   "source": [
    "# создадим excel файл 'Общая ОСВ' и добавим в него все датафреймы с исходными данными\n",
    "with pd.ExcelWriter(os.path.join(source, f'Общая ОСВ_{quarter_name(period_list_end[0][:-5])} {period_list_end[0][-4:]}.xlsx')) as source_file:\n",
    "    print(f'Создание листов excel из ОСВ')\n",
    "    for raw_data in tqdm(all_raw_data.items()):\n",
    "        raw_data[1].to_excel(source_file,\n",
    "                             sheet_name=raw_data[0][raw_data[0].rfind('_')+1:].replace(' (XLSX).xlsx', ''),\n",
    "                             header=True,\n",
    "                             index=False)"
   ]
  },
  {
   "cell_type": "code",
   "execution_count": null,
   "id": "5cd179ac",
   "metadata": {
    "scrolled": false
   },
   "outputs": [],
   "source": [
    "# создадим путь к итоговому excel файлу\n",
    "book_path = os.path.join(source, f'Общая ОСВ_{quarter_name(period_list_end[0][:-5])} {period_list_end[0][-4:]}.xlsx')\n",
    "# загрузим excel файл для редактирования\n",
    "book = load_workbook(book_path)"
   ]
  },
  {
   "cell_type": "code",
   "execution_count": null,
   "id": "afaa6eec",
   "metadata": {},
   "outputs": [],
   "source": [
    "columns = ['A', 'B', 'C', 'D', 'E', 'F', 'G', 'H', 'I', 'J', 'K'] # создадим список столбцов, к которым будем обращаться"
   ]
  },
  {
   "cell_type": "code",
   "execution_count": null,
   "id": "242551cc",
   "metadata": {},
   "outputs": [],
   "source": [
    "# создадим таблицы на каждом листе\n",
    "for sheet in book:\n",
    "    table = Table(displayName=sheet.title.replace('-','_').replace(' ','_'), ref=f'A1:K{sheet.max_row}') # создадим таблицу\n",
    "    style = TableStyleInfo(name='TableStyleLight13', # создадим стиль таблицы\n",
    "                           showFirstColumn=False,\n",
    "                           showLastColumn=False,\n",
    "                           showRowStripes=True,\n",
    "                           showColumnStripes=True)\n",
    "    table.tableStyleInfo = style # применим стиль\n",
    "    sheet.add_table(table) # добавим таблицу на лист"
   ]
  },
  {
   "cell_type": "code",
   "execution_count": null,
   "id": "06878ada",
   "metadata": {},
   "outputs": [],
   "source": [
    "# цикл для изменения ширины столбцов на каждом листе в excel файле\n",
    "for sheet in book:\n",
    "    for column in columns:\n",
    "        sheet.column_dimensions[column].width = 15\n",
    "    sheet.column_dimensions['A'].width = 35\n",
    "    sheet.column_dimensions['B'].width = 35"
   ]
  },
  {
   "cell_type": "code",
   "execution_count": null,
   "id": "a7e7726d",
   "metadata": {},
   "outputs": [],
   "source": [
    "# цикл для изменения формата ячеек на каждом листе в excel файле\n",
    "for sheet in book:\n",
    "    for column in columns:\n",
    "        if column in ['A', 'B', 'C', 'J', 'K']:\n",
    "            for cell in sheet[column:column]:\n",
    "                sheet[cell.coordinate].number_format = BUILTIN_FORMATS[0]\n",
    "        else:\n",
    "            for cell in sheet[column:column]:\n",
    "                sheet[cell.coordinate].number_format = BUILTIN_FORMATS[3]"
   ]
  },
  {
   "cell_type": "code",
   "execution_count": null,
   "id": "a33df63d",
   "metadata": {
    "scrolled": true
   },
   "outputs": [],
   "source": [
    "# цикл для изменения стиля и выравнивания ячеек на каждом листе в excel файле\n",
    "for sheet in book:\n",
    "    for column in columns:\n",
    "        # изменение параметров шрифта\n",
    "        sheet[f'{column}1'].font = Font(bold=True, \n",
    "                                        color='FFFFFFFF')\n",
    "        # изменение выравнивания\n",
    "        sheet[f'{column}1'].alignment = Alignment(horizontal='center',\n",
    "                                                  vertical='center',\n",
    "                                                  wrap_text=True)  \n",
    "    # изменение выравнивания числовых ячеек\n",
    "    for cell_tuple in sheet[f'D2:I{sheet.max_row}']:\n",
    "        for cell in cell_tuple:\n",
    "            cell.alignment = Alignment(horizontal='right',\n",
    "                                       vertical='top')"
   ]
  },
  {
   "cell_type": "code",
   "execution_count": null,
   "id": "4791cb56",
   "metadata": {},
   "outputs": [],
   "source": [
    "book.save(book_path) # сохраним excel файл"
   ]
  },
  {
   "cell_type": "code",
   "execution_count": null,
   "id": "53a4821c",
   "metadata": {},
   "outputs": [],
   "source": [
    "print(f'Перемещение файла \"Общая ОСВ\" из \"{source}\" в новую папку')\n",
    "# скопируем итоговый файл с расширением .xlsx в новую папку\n",
    "shutil.copy(book_path, folder_location)\n",
    "# удалим итоговый файл с расширением .xlsx из первоначальной папки\n",
    "os.remove(book_path)\n",
    "\n",
    "# цикл, который копирует каждый файл из 'raw_data_list' в новую папку и удаляет его из папки c исходными данными\n",
    "for name in tqdm(raw_data_name_list):\n",
    "    # удалим исходные данные с расширением .xlsx из первоначальной папки\n",
    "    os.remove(os.path.join(source, name))\n",
    "    shutil.copy(os.path.join(source_1c, name), folder_location_1c)"
   ]
  },
  {
   "cell_type": "markdown",
   "id": "8a761386",
   "metadata": {},
   "source": [
    "## Распределение по папкам ведомостей амортизации"
   ]
  },
  {
   "cell_type": "code",
   "execution_count": null,
   "id": "0a514c3a",
   "metadata": {},
   "outputs": [],
   "source": [
    "# запишем путь к папке с исходными данными в переменную\n",
    "source = os.path.join('H:',\n",
    "                      '7_ФЭО',\n",
    "                      '3_Финансы',\n",
    "                      'Отчетность и расшифровки',\n",
    "                      'Расшифровка отчетности',\n",
    "                      'РСБУ',\n",
    "                      'Исходные данные')\n",
    "# запишем путь к папке с исходными данными в переменную\n",
    "source_1c = os.path.join('H:',\n",
    "                         '7_ФЭО',\n",
    "                         '3_Финансы',\n",
    "                         'Отчетность и расшифровки',\n",
    "                         'Расшифровка отчетности',\n",
    "                         'РСБУ',\n",
    "                         'Исходные данные',\n",
    "                         'Исходные данные из 1С',\n",
    "                         'Ведомости амортизации')"
   ]
  },
  {
   "cell_type": "code",
   "execution_count": null,
   "id": "74d38946",
   "metadata": {},
   "outputs": [],
   "source": [
    "print('Выполнение скрипта \"bdr_consolidation\" (консолидация БДР)')\n",
    "print(f'Чтение БДР из \"{source}\"')\n",
    "\n",
    "# создадим список с названиями всех общих ОСВ в папке с исходными данными с расширением .xlsx\n",
    "raw_data_name_list_oc = [raw_data for raw_data in os.listdir(source_1c) if raw_data.startswith('Ведомость амортизации ОС') and\n",
    "                         raw_data.endswith('.xlsx')]\n",
    "\n",
    "print(f'Исходные данные (Ведомости амортизации ОС): {raw_data_name_list_oc}')"
   ]
  },
  {
   "cell_type": "code",
   "execution_count": null,
   "id": "ad15a058",
   "metadata": {},
   "outputs": [],
   "source": [
    "# создадим справочник из всех датафреймов в списке 'raw_data_name_list_oc'\n",
    "all_raw_data_oc = {raw_data:pd.read_excel(os.path.join(source_1c, f'{raw_data}')) for raw_data in tqdm(raw_data_name_list_oc)}"
   ]
  },
  {
   "cell_type": "code",
   "execution_count": null,
   "id": "4995294d",
   "metadata": {},
   "outputs": [],
   "source": [
    "# создадим список столбцов, которые нужно сохранить\n",
    "columns = [0, -1]"
   ]
  },
  {
   "cell_type": "code",
   "execution_count": null,
   "id": "0783213f",
   "metadata": {},
   "outputs": [],
   "source": [
    "# оставим только столбцы из списка 'columns'\n",
    "all_raw_data_oc = {raw_data[0]: raw_data[1].iloc[:, columns] for raw_data in all_raw_data_oc.items()}"
   ]
  },
  {
   "cell_type": "code",
   "execution_count": null,
   "id": "acf2ffe7",
   "metadata": {},
   "outputs": [],
   "source": [
    "# временно переименуем столбцы\n",
    "for row_key, row_value in all_raw_data_oc.items():\n",
    "    row_value.columns = ['0', '1']"
   ]
  },
  {
   "cell_type": "code",
   "execution_count": null,
   "id": "023a458f",
   "metadata": {},
   "outputs": [],
   "source": [
    "# создадим список из номеров строк, в которых встречается слово 'Основное средство, Инвентарный номер' в excel файле в столбце '0',\n",
    "# чтобы в дальнейшем оставить только строки, содержащие таблицу с данными\n",
    "rows_to_delete_index = []\n",
    "for raw_data in all_raw_data_oc.values():\n",
    "    rows_to_delete_index.append(list(raw_data['0']).index('Основное средство, Инвентарный номер'))"
   ]
  },
  {
   "cell_type": "code",
   "execution_count": null,
   "id": "fe6acbe2",
   "metadata": {},
   "outputs": [],
   "source": [
    "# объединим списки 'raw_data_name_list_oc' и 'rows_to_delete_index'\n",
    "# в список кортежей с названием файла и номером строки для удаления\n",
    "rows_to_delete = list(zip(raw_data_name_list_oc, rows_to_delete_index))"
   ]
  },
  {
   "cell_type": "code",
   "execution_count": null,
   "id": "f8bc9ce4",
   "metadata": {},
   "outputs": [],
   "source": [
    "# при помощи цикла обновим словарь 'all_raw_data_oc', удалив лишние строки из каждого датафрейма и последнюю строку с итогами\n",
    "for raw_data in all_raw_data_oc.items():\n",
    "    for row in rows_to_delete:\n",
    "        if raw_data[0] == row[0]:\n",
    "            all_raw_data_oc.update({raw_data[0]: raw_data[1][row[1]+1:]})"
   ]
  },
  {
   "cell_type": "code",
   "execution_count": null,
   "id": "88a0bf8a",
   "metadata": {},
   "outputs": [],
   "source": [
    "# переименуем столбцы\n",
    "for row_key, row_value in all_raw_data_oc.items():\n",
    "    row_value.columns = ['Основное средство, Инвентарный номер',\n",
    "                         'Остаточная стоимость']"
   ]
  },
  {
   "cell_type": "code",
   "execution_count": null,
   "id": "2802a063",
   "metadata": {},
   "outputs": [],
   "source": [
    "# удалим лишние строки из каждого датафрейма в 'all_raw_data_oc'\n",
    "all_raw_data_oc = {raw_data[0]: raw_data[1].loc[~raw_data[1]['Основное средство, Инвентарный номер'].isin(['01', '03'])]\n",
    "                   for raw_data in all_raw_data_oc.items()}"
   ]
  },
  {
   "cell_type": "code",
   "execution_count": null,
   "id": "b5b0a609",
   "metadata": {},
   "outputs": [],
   "source": [
    "# создадим список со счетами в 1С\n",
    "values = ['01.01',\n",
    "          '01.03',\n",
    "          '03.01',\n",
    "          '03.02',\n",
    "          '03.03']"
   ]
  },
  {
   "cell_type": "code",
   "execution_count": null,
   "id": "4fdb2bdc",
   "metadata": {
    "scrolled": true
   },
   "outputs": [],
   "source": [
    "'''\n",
    "Создадим цикл, в котором если значение в столбце 'Основное средство, Инвентарный номер' принадлежит к множеству values,\n",
    "то присваиваем значение из этого столбца в столбец 'Счёт',\n",
    "иначе присваиваем значение 'NaN' в столбец 'Счёт'\n",
    "'''\n",
    "for row_key, row_value in all_raw_data_oc.items():\n",
    "    row_value['Счёт'] = np.where(row_value['Основное средство, Инвентарный номер'].isin(values),\n",
    "                                 row_value['Основное средство, Инвентарный номер'],\n",
    "                                 np.nan)"
   ]
  },
  {
   "cell_type": "code",
   "execution_count": null,
   "id": "dcb827c5",
   "metadata": {},
   "outputs": [],
   "source": [
    "# заполним пропущенные значения в столбцах \"Счёт\" значениями предыдущей заполненной ячейки по строкам\n",
    "for row_key, row_value in all_raw_data_oc.items():\n",
    "    row_value['Счёт'] = row_value['Счёт'].fillna(method='ffill',\n",
    "                                                 axis=0)"
   ]
  },
  {
   "cell_type": "code",
   "execution_count": null,
   "id": "94324bb0",
   "metadata": {},
   "outputs": [],
   "source": [
    "'''\n",
    "Обновим словарь all_raw_data_oc, где ключами будут первые элементы из all_raw_data_oc.items(),\n",
    "а значениями будут фильтрованные данные из raw_data, где столбец 'Основное средство, Инвентарный номер'\n",
    "не содержит значения из списка values\n",
    "'''\n",
    "all_raw_data_oc = {raw_data[0]: raw_data[1].loc[~raw_data[1]['Основное средство, Инвентарный номер'].isin(values)]\n",
    "                   for raw_data in all_raw_data_oc.items()}"
   ]
  },
  {
   "cell_type": "code",
   "execution_count": null,
   "id": "bfeda3b8",
   "metadata": {},
   "outputs": [],
   "source": [
    "# при помощи цикла поменяем местами столбцы\n",
    "all_raw_data_oc = {raw_data[0]: raw_data[1].iloc[:, [0, 2, 1]] for raw_data in all_raw_data_oc.items()}"
   ]
  },
  {
   "cell_type": "code",
   "execution_count": null,
   "id": "484b81fc",
   "metadata": {},
   "outputs": [],
   "source": [
    "# присвоим пустую строку последнему элементу столбца 'Счёт'\n",
    "for row_key, row_value in all_raw_data_oc.items():\n",
    "    row_value['Счёт'].iloc[-1:] = ''"
   ]
  },
  {
   "cell_type": "code",
   "execution_count": null,
   "id": "31f94ca0",
   "metadata": {},
   "outputs": [],
   "source": [
    "# сбросим индексы в каждом датафрейме\n",
    "for row_key, row_value in all_raw_data_oc.items():\n",
    "    row_value.reset_index(inplace=True, drop=True)"
   ]
  },
  {
   "cell_type": "code",
   "execution_count": null,
   "id": "3b3de822",
   "metadata": {},
   "outputs": [],
   "source": [
    "# создадим список 'source_file_path' и заполним его значениями путей к исходным файлам\n",
    "source_file_path = []\n",
    "for name in raw_data_name_list_oc:\n",
    "    source_file_path.append(os.path.join(source, name))"
   ]
  },
  {
   "cell_type": "code",
   "execution_count": null,
   "id": "ed3edbc0",
   "metadata": {},
   "outputs": [],
   "source": [
    "# объединим списки 'raw_data_name_list_oc' и 'source_file_path'\n",
    "# в список кортежей с названием файла и путём к нему\n",
    "source_file = list(zip(raw_data_name_list_oc, source_file_path))"
   ]
  },
  {
   "cell_type": "code",
   "execution_count": null,
   "id": "ddfa2047",
   "metadata": {
    "scrolled": true
   },
   "outputs": [],
   "source": [
    "'''\n",
    "Цикл, который перезаписывает каждый файл из 'all_raw_data_oc', чтобы сохранить внесённые ранее изменения в его структуру,\n",
    "а также сохраняет файл в формате xlsx в первоначальную папку\n",
    "'''\n",
    "print(f'Перезапись Ведомости амортизации ОС из \"{source}\"')\n",
    "for raw_data in tqdm(all_raw_data_oc.items()):\n",
    "    for file in source_file:\n",
    "        if raw_data[0] == file[0]:\n",
    "            raw_data[1].to_excel(file[1], header=True, index=False)"
   ]
  },
  {
   "cell_type": "code",
   "execution_count": null,
   "id": "c817fb5e",
   "metadata": {},
   "outputs": [],
   "source": [
    "# создадим путь к папке 'Ведомости амортизации'\n",
    "folder_location_1c = os.path.join(folder_location, 'Ведомости амортизации')\n",
    "# создаются только те папки, которые до этого не существовали\n",
    "if not os.path.exists(folder_location_1c):\n",
    "    os.makedirs(folder_location_1c)   "
   ]
  },
  {
   "cell_type": "code",
   "execution_count": null,
   "id": "2a796731",
   "metadata": {},
   "outputs": [],
   "source": [
    "# создадим excel файл 'Ведомость амортизации ОС' и добавим в него все датафреймы с исходными данными\n",
    "with pd.ExcelWriter(os.path.join(source, f'Ведомость амортизации ОС_{quarter_name(period_list_end[0][:-5])} {period_list_end[0][-4:]}.xlsx')) as source_file:\n",
    "    print(f'Создание листов excel из Ведомостей амортизации ОС')\n",
    "    for raw_data in tqdm(all_raw_data_oc.items()):\n",
    "        raw_data[1].to_excel(source_file,\n",
    "                             sheet_name=raw_data[0][raw_data[0].rfind('_')+1:].replace('.xlsx', ''),\n",
    "                             header=True,\n",
    "                             index=False)"
   ]
  },
  {
   "cell_type": "code",
   "execution_count": null,
   "id": "009dea44",
   "metadata": {},
   "outputs": [],
   "source": [
    "# создадим путь к итоговому excel файлу\n",
    "book_path_oc = os.path.join(source, f'Ведомость амортизации ОС_{quarter_name(period_list_end[0][:-5])} {period_list_end[0][-4:]}.xlsx')\n",
    "# загрузим excel файл для редактирования\n",
    "book_oc = load_workbook(book_path_oc)"
   ]
  },
  {
   "cell_type": "code",
   "execution_count": null,
   "id": "4ff361b4",
   "metadata": {},
   "outputs": [],
   "source": [
    "columns = ['A', 'B', 'C'] # создадим список столбцов, к которым будем обращаться"
   ]
  },
  {
   "cell_type": "code",
   "execution_count": null,
   "id": "3f9084ca",
   "metadata": {},
   "outputs": [],
   "source": [
    "# создадим таблицы на каждом листе\n",
    "for sheet in book_oc:\n",
    "    table = Table(displayName=sheet.title.replace('-','_').replace(' ','_'), ref=f'A1:C{sheet.max_row}') # создадим таблицу\n",
    "    style = TableStyleInfo(name='TableStyleLight13', # создадим стиль таблицы\n",
    "                           showFirstColumn=False,\n",
    "                           showLastColumn=False,\n",
    "                           showRowStripes=True,\n",
    "                           showColumnStripes=True)\n",
    "    table.tableStyleInfo = style # применим стиль\n",
    "    sheet.add_table(table) # добавим таблицу на лист"
   ]
  },
  {
   "cell_type": "code",
   "execution_count": null,
   "id": "e54ba659",
   "metadata": {},
   "outputs": [],
   "source": [
    "# цикл для изменения ширины столбцов на каждом листе в excel файле\n",
    "for sheet in book_oc:\n",
    "    for column in columns:\n",
    "        sheet.column_dimensions[column].width = 35"
   ]
  },
  {
   "cell_type": "code",
   "execution_count": null,
   "id": "fa8d1f08",
   "metadata": {},
   "outputs": [],
   "source": [
    "# цикл для изменения формата ячеек на каждом листе в excel файле\n",
    "for sheet in book_oc:\n",
    "    for column in columns:\n",
    "        if column in ['A', 'B']:\n",
    "            for cell in sheet[column:column]:\n",
    "                sheet[cell.coordinate].number_format = BUILTIN_FORMATS[0]\n",
    "        else:\n",
    "            for cell in sheet[column:column]:\n",
    "                sheet[cell.coordinate].number_format = BUILTIN_FORMATS[3]"
   ]
  },
  {
   "cell_type": "code",
   "execution_count": null,
   "id": "7cdb6769",
   "metadata": {},
   "outputs": [],
   "source": [
    "# цикл для изменения стиля и выравнивания ячеек на каждом листе в excel файле\n",
    "for sheet in book_oc:\n",
    "    for column in columns:\n",
    "        # изменение параметров шрифта\n",
    "        sheet[f'{column}1'].font = Font(bold=True, \n",
    "                                        color='FFFFFFFF')\n",
    "        # изменение выравнивания\n",
    "        sheet[f'{column}1'].alignment = Alignment(horizontal='center',\n",
    "                                                  vertical='center',\n",
    "                                                  wrap_text=True)  \n",
    "    # изменение выравнивания числовых ячеек\n",
    "    for cell_tuple in sheet[f'C2:C{sheet.max_row}']:\n",
    "        for cell in cell_tuple:\n",
    "            cell.alignment = Alignment(horizontal='right',\n",
    "                                       vertical='top')"
   ]
  },
  {
   "cell_type": "code",
   "execution_count": null,
   "id": "c8e5e684",
   "metadata": {},
   "outputs": [],
   "source": [
    "book_oc.save(book_path_oc) # сохраним excel файл"
   ]
  },
  {
   "cell_type": "code",
   "execution_count": null,
   "id": "8d82500c",
   "metadata": {},
   "outputs": [],
   "source": [
    "print(f'Перемещение файла \"Ведомость амортизации\" из \"{source}\" в новую папку')\n",
    "# скопируем итоговый файл с расширением .xlsx в новую папку\n",
    "shutil.copy(book_path_oc, folder_location)\n",
    "# удалим итоговый файл с расширением .xlsx из первоначальной папки\n",
    "os.remove(book_path_oc)\n",
    "\n",
    "# цикл, который копирует каждый файл из 'raw_data_list' в новую папку и удаляет его из папки c исходными данными\n",
    "for name in tqdm(raw_data_name_list_oc):\n",
    "    # удалим исходные данные с расширением .xlsx из первоначальной папки\n",
    "    os.remove(os.path.join(source, name))\n",
    "    shutil.copy(os.path.join(source_1c, name), folder_location_1c)"
   ]
  },
  {
   "cell_type": "markdown",
   "id": "3422009d",
   "metadata": {},
   "source": [
    "## Распределение по папкам отчётов по проводкам"
   ]
  },
  {
   "cell_type": "code",
   "execution_count": null,
   "id": "3b207d96",
   "metadata": {},
   "outputs": [],
   "source": [
    "# запишем путь к папке с исходными данными в переменную\n",
    "source = os.path.join('H:',\n",
    "                      '7_ФЭО',\n",
    "                      '3_Финансы',\n",
    "                      'Отчетность и расшифровки',\n",
    "                      'Расшифровка отчетности',\n",
    "                      'РСБУ',\n",
    "                      'Исходные данные')\n",
    "# запишем путь к папке с исходными данными в переменную\n",
    "source_1c = os.path.join('H:',\n",
    "                         '7_ФЭО',\n",
    "                         '3_Финансы',\n",
    "                         'Отчетность и расшифровки',\n",
    "                         'Расшифровка отчетности',\n",
    "                         'РСБУ',\n",
    "                         'Исходные данные',\n",
    "                         'Исходные данные из 1С',\n",
    "                         'Отчёты по проводкам')"
   ]
  },
  {
   "cell_type": "code",
   "execution_count": null,
   "id": "fd30b2e7",
   "metadata": {
    "scrolled": true
   },
   "outputs": [],
   "source": [
    "print('Выполнение скрипта \"bdr_consolidation\" (консолидация БДР)')\n",
    "print(f'Чтение БДР из \"{source}\"')\n",
    "\n",
    "# создадим список с названиями всех общих ОСВ в папке с исходными данными с расширением .xlsx\n",
    "raw_data_name_list_pr = [raw_data for raw_data in os.listdir(source_1c) if raw_data.startswith('Отчёт по проводкам') and\n",
    "                         raw_data.endswith('.xlsx')]\n",
    "\n",
    "print(f'Исходные данные (Ведомости амортизации ОС): {raw_data_name_list_pr}')"
   ]
  },
  {
   "cell_type": "code",
   "execution_count": null,
   "id": "49f40467",
   "metadata": {},
   "outputs": [],
   "source": [
    "# создадим справочник из всех датафреймов в списке 'raw_data_name_list_pr'\n",
    "all_raw_data_pr = {raw_data:pd.read_excel(os.path.join(source_1c, f'{raw_data}')) for raw_data in tqdm(raw_data_name_list_pr)}"
   ]
  },
  {
   "cell_type": "code",
   "execution_count": null,
   "id": "fde5bdf1",
   "metadata": {},
   "outputs": [],
   "source": [
    "# создадим список из номеров строк, в которых встречается слово 'Дебет' в excel файле\n",
    "debet_location_row = [raw_data.apply(lambda row: row.astype(str)\n",
    "                                     .eq('Дебет')\n",
    "                                     .any(), axis=1)\n",
    "                      .loc[lambda x: x == True].index[0] for raw_data in all_raw_data_pr.values()]"
   ]
  },
  {
   "cell_type": "code",
   "execution_count": null,
   "id": "1c712662",
   "metadata": {},
   "outputs": [],
   "source": [
    "# создадим список из названий столбцов, в которых встречается слово 'Дебет' в excel файле\n",
    "debet_location_column = {raw_data[0]: raw_data[1].apply(lambda row: row.astype(str)\n",
    "                                                        .eq('Дебет')\n",
    "                                                        .any(), axis=0)\n",
    "                         .loc[lambda x: x == True].index[0] for raw_data in all_raw_data_pr.items()}"
   ]
  },
  {
   "cell_type": "code",
   "execution_count": null,
   "id": "d0c204b9",
   "metadata": {},
   "outputs": [],
   "source": [
    "# создадим список из названий столбцов, в которых встречается слово 'Дебет' в excel файле\n",
    "debet_location_column = {column[0]: all_raw_data_pr[column[0]].columns.get_loc(column[1]) for column in debet_location_column.items()}\n",
    "debet_location_column = [all_raw_data_pr[column[0]].columns[column[1]+1] for column in debet_location_column.items()]"
   ]
  },
  {
   "cell_type": "code",
   "execution_count": null,
   "id": "3a0cc19b",
   "metadata": {},
   "outputs": [],
   "source": [
    "# объединим списки 'debet_location_row' и 'debet_location_column'\n",
    "# в список кортежей с номером строки и названием столбца\n",
    "debet_location = list(zip(debet_location_row, debet_location_column))"
   ]
  },
  {
   "cell_type": "code",
   "execution_count": null,
   "id": "192199b9",
   "metadata": {},
   "outputs": [],
   "source": [
    "# объединим списки 'raw_data_name_list_pr' и 'debet_location'\n",
    "# в список кортежей с названием файла и номером строки для удаления\n",
    "cells_to_replace = dict(zip(raw_data_name_list_pr, debet_location))"
   ]
  },
  {
   "cell_type": "code",
   "execution_count": null,
   "id": "7df510d9",
   "metadata": {},
   "outputs": [],
   "source": [
    "'''\n",
    "Если название датафрейма равно имени из cells_to_replace,\n",
    "то заменим значение ячеек на 'Дебет'\n",
    "'''\n",
    "for raw_data in all_raw_data_pr.items():\n",
    "    for name, cell in cells_to_replace.items():\n",
    "        if raw_data[0] == name:\n",
    "            raw_data[1].at[cell[0], cell[1]] = 'Дебет'"
   ]
  },
  {
   "cell_type": "code",
   "execution_count": null,
   "id": "29a159e2",
   "metadata": {},
   "outputs": [],
   "source": [
    "# создадим список из номеров строк, в которых встречается слово 'Кредит' в excel файле\n",
    "credit_location_row = [raw_data.apply(lambda row: row.astype(str)\n",
    "                                      .eq('Кредит')\n",
    "                                      .any(), axis=1)\n",
    "                       .loc[lambda x: x == True].index[0] for raw_data in all_raw_data_pr.values()]"
   ]
  },
  {
   "cell_type": "code",
   "execution_count": null,
   "id": "fe686664",
   "metadata": {},
   "outputs": [],
   "source": [
    "# создадим список из названий столбцов, в которых встречается слово 'Кредит' в excel файле\n",
    "credit_location_column = {raw_data[0]: raw_data[1].apply(lambda row: row.astype(str)\n",
    "                                                         .eq('Кредит')\n",
    "                                                         .any(), axis=0)\n",
    "                          .loc[lambda x: x == True].index[0] for raw_data in all_raw_data_pr.items()}"
   ]
  },
  {
   "cell_type": "code",
   "execution_count": null,
   "id": "06eda678",
   "metadata": {},
   "outputs": [],
   "source": [
    "# добавим новый столбец с пустыми значениями в каждый датафрейм, чтобы избежать ошибок\n",
    "all_raw_data_pr = {raw_data[0]: raw_data[1].assign(temp=[float('nan')] * len(raw_data[1])) for raw_data in all_raw_data_pr.items()}"
   ]
  },
  {
   "cell_type": "code",
   "execution_count": null,
   "id": "c46d0c73",
   "metadata": {},
   "outputs": [],
   "source": [
    "# создадим список из названий столбцов, в которых встречается слово 'Кредит' в excel файле\n",
    "credit_location_column = {column[0]: all_raw_data_pr[column[0]].columns.get_loc(column[1]) for column in credit_location_column.items()}\n",
    "credit_location_column = [all_raw_data_pr[column[0]].columns[column[1]+1] for column in credit_location_column.items()]"
   ]
  },
  {
   "cell_type": "code",
   "execution_count": null,
   "id": "3e75536d",
   "metadata": {},
   "outputs": [],
   "source": [
    "# объединим списки 'credit_location_row' и 'credit_location_column'\n",
    "# в список кортежей с номером строки и названием столбца\n",
    "credit_location = list(zip(credit_location_row, credit_location_column))"
   ]
  },
  {
   "cell_type": "code",
   "execution_count": null,
   "id": "029ba986",
   "metadata": {},
   "outputs": [],
   "source": [
    "# объединим списки 'raw_data_name_list_pr' и 'credit_location'\n",
    "# в список кортежей с названием файла и номером строки для удаления\n",
    "cells_to_replace = dict(zip(raw_data_name_list_pr, credit_location))"
   ]
  },
  {
   "cell_type": "code",
   "execution_count": null,
   "id": "41625027",
   "metadata": {},
   "outputs": [],
   "source": [
    "'''\n",
    "Если название датафрейма равно имени из cells_to_replace,\n",
    "то заменим значение ячеек на 'Кредит'\n",
    "'''\n",
    "for raw_data in all_raw_data_pr.items():\n",
    "    for name, cell in cells_to_replace.items():\n",
    "        if raw_data[0] == name:\n",
    "            raw_data[1].at[cell[0], cell[1]] = 'Кредит'"
   ]
  },
  {
   "cell_type": "code",
   "execution_count": null,
   "id": "a2c4bc58",
   "metadata": {},
   "outputs": [],
   "source": [
    "# при помощи цикла удалим пустые столбцы в каждом датафрейме из словаря 'all_raw_data_pr'\n",
    "all_raw_data_pr = {raw_data[0]: raw_data[1].dropna(how='all', axis=1) for raw_data in all_raw_data_pr.items()}"
   ]
  },
  {
   "cell_type": "code",
   "execution_count": null,
   "id": "306273db",
   "metadata": {},
   "outputs": [],
   "source": [
    "# временно переименуем столбцы\n",
    "for row_key, row_value in all_raw_data_pr.items():\n",
    "    row_value.columns = ['0', '1', '2', '3', '4', '5', '6', '7']"
   ]
  },
  {
   "cell_type": "code",
   "execution_count": null,
   "id": "a61aa6fd",
   "metadata": {},
   "outputs": [],
   "source": [
    "# создадим список из номеров строк, в которых встречается слово 'Период' в excel файле в столбце '0',\n",
    "# чтобы в дальнейшем оставить только строки, содержащие таблицу с данными\n",
    "rows_to_delete_index = []\n",
    "for raw_data in all_raw_data_pr.values():\n",
    "    rows_to_delete_index.append(list(raw_data['0']).index('Период'))"
   ]
  },
  {
   "cell_type": "code",
   "execution_count": null,
   "id": "9747c497",
   "metadata": {},
   "outputs": [],
   "source": [
    "# объединим списки 'raw_data_name_list_pr' и 'rows_to_delete_index'\n",
    "# в список кортежей с названием файла и номером строки для удаления\n",
    "rows_to_delete = list(zip(raw_data_name_list_pr, rows_to_delete_index))"
   ]
  },
  {
   "cell_type": "code",
   "execution_count": null,
   "id": "3689f0a1",
   "metadata": {},
   "outputs": [],
   "source": [
    "# при помощи цикла обновим словарь 'all_raw_data_pr', удалив лишние строки из каждого датафрейма\n",
    "for raw_data in all_raw_data_pr.items():\n",
    "    for row in rows_to_delete:\n",
    "        if raw_data[0] == row[0]:\n",
    "            all_raw_data_pr.update({raw_data[0]: raw_data[1][row[1]+2:]})"
   ]
  },
  {
   "cell_type": "code",
   "execution_count": null,
   "id": "0ea0b08d",
   "metadata": {},
   "outputs": [],
   "source": [
    "# переименуем столбцы\n",
    "for row_key, row_value in all_raw_data_pr.items():\n",
    "    row_value.columns = ['Период',\n",
    "                         'Документ',\n",
    "                         'Аналитика Дт',\n",
    "                         'Аналитика Кт',\n",
    "                         'Счёт Дт',\n",
    "                         'Сумма Дт',\n",
    "                         'Счёт Кт',\n",
    "                         'Сумма Кт']"
   ]
  },
  {
   "cell_type": "code",
   "execution_count": null,
   "id": "4d828096",
   "metadata": {},
   "outputs": [],
   "source": [
    "# временно переименуем столбцы\n",
    "for row_key, row_value in all_raw_data_pr.items():\n",
    "    if row_value.empty:\n",
    "        row_value.loc[0] = ['Итого'] + [float('nan')]*(row_value.shape[1]-1)"
   ]
  },
  {
   "cell_type": "code",
   "execution_count": null,
   "id": "f8af46bd",
   "metadata": {},
   "outputs": [],
   "source": [
    "# заменим значения последней ячейки в первом столбце \"all_raw_data_pr\" на строку \"Итого\"\n",
    "for row_key, row_value in all_raw_data_pr.items():\n",
    "    row_value.iloc[-1, 0] = 'Итого'"
   ]
  },
  {
   "cell_type": "code",
   "execution_count": null,
   "id": "e8e179ab",
   "metadata": {},
   "outputs": [],
   "source": [
    "# создадим список 'source_file_path' и заполним его значениями путей к исходным файлам\n",
    "source_file_path = []\n",
    "for name in raw_data_name_list_pr:\n",
    "    source_file_path.append(os.path.join(source, name))"
   ]
  },
  {
   "cell_type": "code",
   "execution_count": null,
   "id": "897a4935",
   "metadata": {},
   "outputs": [],
   "source": [
    "# объединим списки 'raw_data_name_list_pr' и 'source_file_path'\n",
    "# в список кортежей с названием файла и путём к нему\n",
    "source_file = list(zip(raw_data_name_list_pr, source_file_path))"
   ]
  },
  {
   "cell_type": "code",
   "execution_count": null,
   "id": "cf1097db",
   "metadata": {},
   "outputs": [],
   "source": [
    "'''\n",
    "Цикл, который перезаписывает каждый файл из 'all_raw_data', чтобы сохранить внесённые ранее изменения в его структуру,\n",
    "а также сохраняет файл в формате xlsx в первоначальную папку\n",
    "'''\n",
    "print(f'Перезапись Ведомости амортизации ОС из \"{source}\"')\n",
    "for raw_data in tqdm(all_raw_data_pr.items()):\n",
    "    for file in source_file:\n",
    "        if raw_data[0] == file[0]:\n",
    "            raw_data[1].to_excel(file[1], header=True, index=False)"
   ]
  },
  {
   "cell_type": "code",
   "execution_count": null,
   "id": "371b3ca0",
   "metadata": {},
   "outputs": [],
   "source": [
    "# создадим путь к папке 'Отчёты по проводкам'\n",
    "folder_location_1c = os.path.join(folder_location, 'Отчёты по проводкам')\n",
    "# создаются только те папки, которые до этого не существовали\n",
    "if not os.path.exists(folder_location_1c):\n",
    "    os.makedirs(folder_location_1c)  "
   ]
  },
  {
   "cell_type": "code",
   "execution_count": null,
   "id": "c82a51a3",
   "metadata": {},
   "outputs": [],
   "source": [
    "# создадим excel файл 'Отчёт по проводкам' и добавим в него все датафреймы с исходными данными\n",
    "with pd.ExcelWriter(os.path.join(source, f'Отчёт по проводкам_{quarter_name(period_list_end[0][:-5])} {period_list_end[0][-4:]}.xlsx')) as source_file:\n",
    "    print(f'Создание листов excel из Ведомостей амортизации ОС')\n",
    "    for raw_data in tqdm(all_raw_data_pr.items()):\n",
    "        raw_data[1].to_excel(source_file,\n",
    "                             sheet_name=raw_data[0][raw_data[0].rfind('_')+1:].replace('.xlsx', ''),\n",
    "                             header=True,\n",
    "                             index=False)"
   ]
  },
  {
   "cell_type": "code",
   "execution_count": null,
   "id": "70f69e4a",
   "metadata": {},
   "outputs": [],
   "source": [
    "# создадим путь к итоговому excel файлу\n",
    "book_path_pr = os.path.join(source, f'Отчёт по проводкам_{quarter_name(period_list_end[0][:-5])} {period_list_end[0][-4:]}.xlsx')\n",
    "# загрузим excel файл для редактирования\n",
    "book_pr = load_workbook(book_path_pr)"
   ]
  },
  {
   "cell_type": "code",
   "execution_count": null,
   "id": "01924213",
   "metadata": {},
   "outputs": [],
   "source": [
    "columns = ['A', 'B', 'C', 'D', 'E', 'F', 'G', 'H'] # создадим список столбцов, к которым будем обращаться"
   ]
  },
  {
   "cell_type": "code",
   "execution_count": null,
   "id": "dc20359a",
   "metadata": {},
   "outputs": [],
   "source": [
    "# создадим таблицы на каждом листе\n",
    "for sheet in book_pr:\n",
    "    table = Table(displayName=sheet.title.replace('-','_').replace(' ','_'), ref=f'A1:H{sheet.max_row}') # создадим таблицу\n",
    "    style = TableStyleInfo(name='TableStyleLight13', # создадим стиль таблицы\n",
    "                           showFirstColumn=False,\n",
    "                           showLastColumn=False,\n",
    "                           showRowStripes=True,\n",
    "                           showColumnStripes=True)\n",
    "    table.tableStyleInfo = style # применим стиль\n",
    "    sheet.add_table(table) # добавим таблицу на лист"
   ]
  },
  {
   "cell_type": "code",
   "execution_count": null,
   "id": "52959cb9",
   "metadata": {},
   "outputs": [],
   "source": [
    "# цикл для изменения ширины столбцов на каждом листе в excel файле\n",
    "for sheet in book_pr:\n",
    "    for column in columns:\n",
    "        sheet.column_dimensions[column].width = 25"
   ]
  },
  {
   "cell_type": "code",
   "execution_count": null,
   "id": "0893653e",
   "metadata": {},
   "outputs": [],
   "source": [
    "# цикл для изменения формата ячеек на каждом листе в excel файле\n",
    "for sheet in book_pr:\n",
    "    for column in columns:\n",
    "        if column in ['A', 'B', 'C', 'D', 'E', 'G']:\n",
    "            for cell in sheet[column:column]:\n",
    "                sheet[cell.coordinate].number_format = BUILTIN_FORMATS[0]\n",
    "        else:\n",
    "            for cell in sheet[column:column]:\n",
    "                sheet[cell.coordinate].number_format = BUILTIN_FORMATS[3]"
   ]
  },
  {
   "cell_type": "code",
   "execution_count": null,
   "id": "41b3703d",
   "metadata": {},
   "outputs": [],
   "source": [
    "# цикл для изменения стиля и выравнивания ячеек на каждом листе в excel файле\n",
    "for sheet in book_pr:\n",
    "    for column in columns:\n",
    "        # изменение параметров шрифта\n",
    "        sheet[f'{column}1'].font = Font(bold=True, \n",
    "                                        color='FFFFFFFF')\n",
    "        # изменение выравнивания\n",
    "        sheet[f'{column}1'].alignment = Alignment(horizontal='center',\n",
    "                                                  vertical='center',\n",
    "                                                  wrap_text=True)  \n",
    "    # изменение выравнивания числовых ячеек\n",
    "    for cell_tuple in sheet[f'E2:E{sheet.max_row}']:\n",
    "        for cell in cell_tuple:\n",
    "            cell.alignment = Alignment(horizontal='right',\n",
    "                                       vertical='top')\n",
    "    # изменение выравнивания числовых ячеек\n",
    "    for cell_tuple in sheet[f'H2:H{sheet.max_row}']:\n",
    "        for cell in cell_tuple:\n",
    "            cell.alignment = Alignment(horizontal='right',\n",
    "                                       vertical='top')"
   ]
  },
  {
   "cell_type": "code",
   "execution_count": null,
   "id": "417c6485",
   "metadata": {},
   "outputs": [],
   "source": [
    "book_pr.save(book_path_pr) # сохраним excel файл"
   ]
  },
  {
   "cell_type": "code",
   "execution_count": null,
   "id": "ab08a351",
   "metadata": {},
   "outputs": [],
   "source": [
    "print(f'Перемещение файла \"Отчёт по проводкам\" из \"{source}\" в новую папку')\n",
    "# скопируем итоговый файл с расширением .xlsx в новую папку\n",
    "shutil.copy(book_path_pr, folder_location)\n",
    "# удалим итоговый файл с расширением .xlsx из первоначальной папки\n",
    "os.remove(book_path_pr)\n",
    "\n",
    "# цикл, который копирует каждый файл из 'raw_data_list' в новую папку и удаляет его из папки c исходными данными\n",
    "for name in tqdm(raw_data_name_list_pr):\n",
    "    # удалим исходные данные с расширением .xlsx из первоначальной папки\n",
    "    os.remove(os.path.join(source, name))\n",
    "    shutil.copy(os.path.join(source_1c, name), folder_location_1c)"
   ]
  }
 ],
 "metadata": {
  "kernelspec": {
   "display_name": "Python 3 (ipykernel)",
   "language": "python",
   "name": "python3"
  },
  "language_info": {
   "codemirror_mode": {
    "name": "ipython",
    "version": 3
   },
   "file_extension": ".py",
   "mimetype": "text/x-python",
   "name": "python",
   "nbconvert_exporter": "python",
   "pygments_lexer": "ipython3",
   "version": "3.9.13"
  }
 },
 "nbformat": 4,
 "nbformat_minor": 5
}
